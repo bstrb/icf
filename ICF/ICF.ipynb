{
 "cells": [
  {
   "cell_type": "code",
   "execution_count": null,
   "metadata": {},
   "outputs": [
    {
     "data": {
      "application/vnd.jupyter.widget-view+json": {
       "model_id": "23cac5d2708845c1a7869c57f707aa0b",
       "version_major": 2,
       "version_minor": 0
      },
      "text/plain": [
       "Tab(children=(VBox(children=(HTML(value='<h2>Section 1: Process Images (One Row Per Frame)</h2>'), FileChooser…"
      ]
     },
     "metadata": {},
     "output_type": "display_data"
    }
   ],
   "source": [
    "import ipywidgets as widgets\n",
    "from IPython.display import display\n",
    "import process_images_ui\n",
    "import filter_plot_ui\n",
    "import lowess_h5_update_ui\n",
    "\n",
    "# Retrieve the UI components.\n",
    "ui_process = process_images_ui.get_ui()\n",
    "ui_filter = filter_plot_ui.get_ui()\n",
    "ui_lowess_h5 = lowess_h5_update_ui.get_ui()\n",
    "\n",
    "# Create a Tab widget with two tabs.\n",
    "tab = widgets.Tab(children=[ui_process, ui_filter, ui_lowess_h5])\n",
    "tab.set_title(0, \"Process Images\")\n",
    "tab.set_title(1, \"Filter\")\n",
    "tab.set_title(2, \"Lowess & H5 Update\")\n",
    "\n",
    "display(tab) \n"
   ]
  }
 ],
 "metadata": {
  "kernelspec": {
   "display_name": "pyxem-env",
   "language": "python",
   "name": "python3"
  },
  "language_info": {
   "codemirror_mode": {
    "name": "ipython",
    "version": 3
   },
   "file_extension": ".py",
   "mimetype": "text/x-python",
   "name": "python",
   "nbconvert_exporter": "python",
   "pygments_lexer": "ipython3",
   "version": "3.10.16"
  }
 },
 "nbformat": 4,
 "nbformat_minor": 2
}
