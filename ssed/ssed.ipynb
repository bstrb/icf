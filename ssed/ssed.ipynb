{
 "cells": [
  {
   "cell_type": "code",
   "execution_count": null,
   "metadata": {},
   "outputs": [],
   "source": [
    "import ipywidgets as widgets\n",
    "from IPython.display import display\n",
    "\n",
    "# Import your UI modules.\n",
    "import gandalf_indexing_ui\n",
    "import visualization_ui\n",
    "import metrics_processing_ui\n",
    "import interactive_iqm_ui\n",
    "import interactive_merging_conversion_ui\n",
    "import refmac_refinement_ui\n",
    "\n",
    "# Get the UI components from each module.\n",
    "ui_gandalf = gandalf_indexing_ui.get_ui()\n",
    "ui_visualization = visualization_ui.get_ui()\n",
    "ui_metrics = metrics_processing_ui.get_ui()\n",
    "ui_iqm = interactive_iqm_ui.get_ui()\n",
    "ui_merge_convert = interactive_merging_conversion_ui.get_ui()\n",
    "ui_refmac = refmac_refinement_ui.get_ui()\n",
    "\n",
    "# Arrange them in a tabbed interface in the desired order.\n",
    "tab = widgets.Tab(children=[ui_gandalf, ui_visualization, ui_metrics, ui_iqm, ui_merge_convert, ui_refmac])\n",
    "tab.set_title(0, \"Gandalf Indexing\")\n",
    "tab.set_title(1, \"Visualization\")\n",
    "tab.set_title(2, \"Metrics Processing\")\n",
    "tab.set_title(3, \"Interactive IQM\")\n",
    "tab.set_title(4, \"Merge & Convert\")\n",
    "tab.set_title(5, \"Refmac Refinement\")\n",
    "\n",
    "display(tab)\n"
   ]
  }
 ],
 "metadata": {
  "language_info": {
   "name": "python"
  }
 },
 "nbformat": 4,
 "nbformat_minor": 2
}
