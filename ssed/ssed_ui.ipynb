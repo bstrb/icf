{
 "cells": [
  {
   "cell_type": "code",
   "execution_count": null,
   "metadata": {},
   "outputs": [
    {
     "data": {
      "application/vnd.jupyter.widget-view+json": {
       "model_id": "77e0ac04e56146b282d04eb33f300271",
       "version_major": 2,
       "version_minor": 0
      },
      "text/plain": [
       "Tab(children=(VBox(children=(HTML(value='<h3>Indexing on a Circular Grid</h3>'), FileChooser(path='/home/bubl3…"
      ]
     },
     "metadata": {},
     "output_type": "display_data"
    }
   ],
   "source": [
    "import ipywidgets as widgets\n",
    "from IPython.display import display\n",
    "\n",
    "# Import your UI modules.\n",
    "from gandalf_interations import gandalf_indexing_ui\n",
    "from visualization import visualization_ui\n",
    "from calc_metrics import metrics_processing_ui\n",
    "from filter_and_combine import interactive_iqm_ui\n",
    "from merge_and_convert import interactive_merging_conversion_ui\n",
    "from refmac_refine import refmac_refinement_ui\n",
    "\n",
    "# Get the UI components from each module.\n",
    "ui_gandalf = gandalf_indexing_ui.get_ui()\n",
    "ui_visualization = visualization_ui.get_ui()\n",
    "ui_metrics = metrics_processing_ui.get_ui()\n",
    "ui_iqm = interactive_iqm_ui.get_ui()\n",
    "ui_merge_convert = interactive_merging_conversion_ui.get_ui()\n",
    "ui_refmac = refmac_refinement_ui.get_ui()\n",
    "\n",
    "# Arrange them in a tabbed interface in the desired order.\n",
    "tab = widgets.Tab(children=[ui_gandalf, ui_visualization, ui_metrics, ui_iqm, ui_merge_convert, ui_refmac])\n",
    "\n",
    "tab.set_title(0, \"Gandalf Indexing Iterations\")\n",
    "tab.set_title(1, \"Indexing Results Visualization\")\n",
    "tab.set_title(2, \"Metric Evaluation\")\n",
    "tab.set_title(3, \"Interactive Filtering & Combining\")\n",
    "tab.set_title(4, \"Merging & Conversion\")\n",
    "tab.set_title(5, \"Refmac Refinement\")\n",
    "\n",
    "display(tab)\n"
   ]
  }
 ],
 "metadata": {
  "kernelspec": {
   "display_name": "pyxem-env",
   "language": "python",
   "name": "python3"
  },
  "language_info": {
   "codemirror_mode": {
    "name": "ipython",
    "version": 3
   },
   "file_extension": ".py",
   "mimetype": "text/x-python",
   "name": "python",
   "nbconvert_exporter": "python",
   "pygments_lexer": "ipython3",
   "version": "3.10.16"
  }
 },
 "nbformat": 4,
 "nbformat_minor": 2
}
