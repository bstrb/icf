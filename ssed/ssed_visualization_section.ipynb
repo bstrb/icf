{
 "cells": [
  {
   "cell_type": "code",
   "execution_count": null,
   "metadata": {},
   "outputs": [
    {
     "data": {
      "application/vnd.jupyter.widget-view+json": {
       "model_id": "0e17d08ec9e84a0a91574fd1e8405965",
       "version_major": 2,
       "version_minor": 0
      },
      "text/plain": [
       "VBox(children=(HTML(value='<h3>Indexing Data Visualization</h3>'), FileChooser(path='/Users/xiaodong/Desktop/i…"
      ]
     },
     "metadata": {},
     "output_type": "display_data"
    }
   ],
   "source": [
    "# %%writefile visualization_ui.py\n",
    "import ipywidgets as widgets\n",
    "from IPython.display import display, clear_output\n",
    "from ipyfilechooser import FileChooser\n",
    "\n",
    "# Import visualization functions\n",
    "from visualization.indexing_3d_histogram import plot3d_indexing_rate\n",
    "from visualization.indexing_center import indexing_heatmap\n",
    " \n",
    "def create_visualization_section():\n",
    "    # Create a folder chooser for the output folder.\n",
    "    output_folder_chooser = FileChooser(\"\")\n",
    "    output_folder_chooser.title = \"Select Output Folder\"\n",
    "    output_folder_chooser.show_only_dirs = True  # Only directories\n",
    "    \n",
    "    # Create a button to trigger the visualization.\n",
    "    vis_button = widgets.Button(\n",
    "        description=\"Generate Visualizations\",\n",
    "        button_style=\"primary\"\n",
    "    )\n",
    "    \n",
    "    # Output area for feedback.\n",
    "    vis_output = widgets.Output()\n",
    "    \n",
    "    def on_vis_clicked(b):\n",
    "        with vis_output:\n",
    "            clear_output()\n",
    "            output_folder = output_folder_chooser.selected\n",
    "            if not output_folder:\n",
    "                print(\"Please select an output folder.\")\n",
    "                return\n",
    "            print(\"Generating visualizations for output folder:\", output_folder)\n",
    "            try:\n",
    "                # Call the visualization functions.\n",
    "                plot3d_indexing_rate(output_folder)\n",
    "                indexing_heatmap(output_folder)\n",
    "                print(\"Visualization completed successfully.\")\n",
    "            except Exception as e:\n",
    "                print(\"Error during visualization:\", e)\n",
    "    \n",
    "    vis_button.on_click(on_vis_clicked)\n",
    "    \n",
    "    # Assemble the full UI.\n",
    "    ui = widgets.VBox([\n",
    "        widgets.HTML(\"<h3>Indexing Data Visualization</h3>\"),\n",
    "        output_folder_chooser,\n",
    "        vis_button,\n",
    "        vis_output\n",
    "    ])\n",
    "    \n",
    "    return ui\n",
    "\n",
    "def get_ui():\n",
    "    \"\"\"\n",
    "    Returns the full visualization UI as a widget.\n",
    "    \"\"\"\n",
    "    return create_visualization_section()\n",
    "\n",
    "if __name__ == '__main__':\n",
    "    ui = get_ui()\n",
    "    display(ui)\n"
   ]
  }
 ],
 "metadata": {
  "kernelspec": {
   "display_name": "pyxem-env",
   "language": "python",
   "name": "python3"
  },
  "language_info": {
   "codemirror_mode": {
    "name": "ipython",
    "version": 3
   },
   "file_extension": ".py",
   "mimetype": "text/x-python",
   "name": "python",
   "nbconvert_exporter": "python",
   "pygments_lexer": "ipython3",
   "version": "3.10.16"
  }
 },
 "nbformat": 4,
 "nbformat_minor": 2
}
